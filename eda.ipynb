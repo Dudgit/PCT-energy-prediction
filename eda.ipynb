{
 "cells": [
  {
   "cell_type": "code",
   "execution_count": 2,
   "metadata": {},
   "outputs": [],
   "source": [
    "import numpy as np\n",
    "import pandas as pd\n",
    "import matplotlib.pyplot as plt\n",
    "import glob\n"
   ]
  },
  {
   "cell_type": "code",
   "execution_count": 4,
   "metadata": {},
   "outputs": [],
   "source": [
    "rootF = '/home/bdudas/PCT_DATA/output/'\n",
    "wpts = [100,150,175,200]\n",
    "dataFolders = [f'{rootF}/wpt_{wpt}_psa' for wpt in wpts]\n"
   ]
  },
  {
   "cell_type": "code",
   "execution_count": 32,
   "metadata": {},
   "outputs": [],
   "source": [
    "sammpleID = 1\n",
    "sampleWPT = np.random.choice(wpts)"
   ]
  },
  {
   "cell_type": "markdown",
   "metadata": {},
   "source": [
    "# Load Data"
   ]
  },
  {
   "cell_type": "code",
   "execution_count": 8,
   "metadata": {},
   "outputs": [],
   "source": [
    "\n",
    "tmp_hit = np.load(glob.glob(f\"{rootF}/wpt_{sampleWPT}_psa/*_{sammpleID}.hits.npy\")[0])\n",
    "tmp_psa = np.load(glob.glob(f\"{rootF}/wpt_{sampleWPT}_psa/*_{sammpleID}_AllPSA.npy\")[0], allow_pickle=True)\n",
    "hit = pd.DataFrame(tmp_hit)\n",
    "psa = pd.DataFrame(tmp_psa)\n",
    "hit = hit[hit.parentID == 0]\n",
    "psa = psa[psa.ParentID == 0]\n",
    "hit['Layer'] =  2*(hit['volumeID[2]'])+hit['volumeID[3]']\n"
   ]
  },
  {
   "cell_type": "code",
   "execution_count": 9,
   "metadata": {},
   "outputs": [
    {
     "data": {
      "text/html": [
       "<div>\n",
       "<style scoped>\n",
       "    .dataframe tbody tr th:only-of-type {\n",
       "        vertical-align: middle;\n",
       "    }\n",
       "\n",
       "    .dataframe tbody tr th {\n",
       "        vertical-align: top;\n",
       "    }\n",
       "\n",
       "    .dataframe thead th {\n",
       "        text-align: right;\n",
       "    }\n",
       "</style>\n",
       "<table border=\"1\" class=\"dataframe\">\n",
       "  <thead>\n",
       "    <tr style=\"text-align: right;\">\n",
       "      <th></th>\n",
       "      <th>eventID</th>\n",
       "      <th>Layer</th>\n",
       "      <th>edep</th>\n",
       "    </tr>\n",
       "  </thead>\n",
       "  <tbody>\n",
       "    <tr>\n",
       "      <th>21</th>\n",
       "      <td>1</td>\n",
       "      <td>0</td>\n",
       "      <td>0.018229</td>\n",
       "    </tr>\n",
       "    <tr>\n",
       "      <th>22</th>\n",
       "      <td>1</td>\n",
       "      <td>1</td>\n",
       "      <td>0.023567</td>\n",
       "    </tr>\n",
       "    <tr>\n",
       "      <th>23</th>\n",
       "      <td>1</td>\n",
       "      <td>2</td>\n",
       "      <td>0.021172</td>\n",
       "    </tr>\n",
       "    <tr>\n",
       "      <th>24</th>\n",
       "      <td>1</td>\n",
       "      <td>3</td>\n",
       "      <td>0.035010</td>\n",
       "    </tr>\n",
       "    <tr>\n",
       "      <th>25</th>\n",
       "      <td>1</td>\n",
       "      <td>4</td>\n",
       "      <td>0.019598</td>\n",
       "    </tr>\n",
       "    <tr>\n",
       "      <th>...</th>\n",
       "      <td>...</td>\n",
       "      <td>...</td>\n",
       "      <td>...</td>\n",
       "    </tr>\n",
       "    <tr>\n",
       "      <th>22638</th>\n",
       "      <td>999</td>\n",
       "      <td>19</td>\n",
       "      <td>0.035783</td>\n",
       "    </tr>\n",
       "    <tr>\n",
       "      <th>22639</th>\n",
       "      <td>999</td>\n",
       "      <td>20</td>\n",
       "      <td>0.057409</td>\n",
       "    </tr>\n",
       "    <tr>\n",
       "      <th>22640</th>\n",
       "      <td>999</td>\n",
       "      <td>21</td>\n",
       "      <td>0.068108</td>\n",
       "    </tr>\n",
       "    <tr>\n",
       "      <th>22641</th>\n",
       "      <td>999</td>\n",
       "      <td>22</td>\n",
       "      <td>0.071473</td>\n",
       "    </tr>\n",
       "    <tr>\n",
       "      <th>22642</th>\n",
       "      <td>999</td>\n",
       "      <td>23</td>\n",
       "      <td>0.149773</td>\n",
       "    </tr>\n",
       "  </tbody>\n",
       "</table>\n",
       "<p>18764 rows × 3 columns</p>\n",
       "</div>"
      ],
      "text/plain": [
       "       eventID  Layer      edep\n",
       "21           1      0  0.018229\n",
       "22           1      1  0.023567\n",
       "23           1      2  0.021172\n",
       "24           1      3  0.035010\n",
       "25           1      4  0.019598\n",
       "...        ...    ...       ...\n",
       "22638      999     19  0.035783\n",
       "22639      999     20  0.057409\n",
       "22640      999     21  0.068108\n",
       "22641      999     22  0.071473\n",
       "22642      999     23  0.149773\n",
       "\n",
       "[18764 rows x 3 columns]"
      ]
     },
     "execution_count": 9,
     "metadata": {},
     "output_type": "execute_result"
    }
   ],
   "source": [
    "df = hit.sort_values(['eventID','Layer']).loc[:,['eventID','Layer','edep']]\n",
    "df"
   ]
  },
  {
   "cell_type": "code",
   "execution_count": 10,
   "metadata": {},
   "outputs": [
    {
     "data": {
      "text/plain": [
       "array([[<AxesSubplot:title={'center':'edep'}>]], dtype=object)"
      ]
     },
     "execution_count": 10,
     "metadata": {},
     "output_type": "execute_result"
    },
    {
     "data": {
      "image/png": "[encoded data removed]",
      "text/plain": [
       "<Figure size 640x480 with 1 Axes>"
      ]
     },
     "metadata": {},
     "output_type": "display_data"
    }
   ],
   "source": [
    "df.groupby('eventID').agg({'edep':np.argmax}).hist(bins=100)"
   ]
  },
  {
   "cell_type": "code",
   "execution_count": 11,
   "metadata": {},
   "outputs": [],
   "source": [
    "df_psa = psa.groupby('EventID').max('Ekine').loc[:,['Ekine']]"
   ]
  },
  {
   "cell_type": "code",
   "execution_count": 12,
   "metadata": {},
   "outputs": [],
   "source": [
    "df_psa.reset_index(inplace=True)\n",
    "df_psa = df_psa[df_psa.EventID.isin(df.eventID)]"
   ]
  },
  {
   "cell_type": "code",
   "execution_count": 13,
   "metadata": {},
   "outputs": [],
   "source": [
    "savePath = f'data/wpt_{sampleWPT}/{sammpleID}'\n",
    "np.save(f'{savePath}_y.npy', df_psa.Ekine.values)\n",
    "np.save(f'{savePath}_x.npy', df.edep.values)"
   ]
  },
  {
   "cell_type": "code",
   "execution_count": 14,
   "metadata": {},
   "outputs": [
    {
     "data": {
      "text/plain": [
       "True"
      ]
     },
     "execution_count": 14,
     "metadata": {},
     "output_type": "execute_result"
    }
   ],
   "source": [
    "all(np.load(f'{savePath}_x.npy') == df.edep.values)"
   ]
  },
  {
   "cell_type": "code",
   "execution_count": 15,
   "metadata": {},
   "outputs": [],
   "source": [
    "def padarray(A,size = 41):\n",
    "    t = size - len(A)\n",
    "    if t > 0:\n",
    "        return np.pad(A, (0,t), 'constant', constant_values=(0,0))\n",
    "    else:\n",
    "        return A"
   ]
  },
  {
   "cell_type": "code",
   "execution_count": 16,
   "metadata": {},
   "outputs": [],
   "source": [
    "edep_arrays = [padarray(group['edep'].values) for _, group in df.groupby('eventID')]"
   ]
  },
  {
   "cell_type": "code",
   "execution_count": 21,
   "metadata": {},
   "outputs": [
    {
     "data": {
      "text/plain": [
       "(859, 41)"
      ]
     },
     "execution_count": 21,
     "metadata": {},
     "output_type": "execute_result"
    }
   ],
   "source": [
    "np.save('tmp.npy', edep_arrays)\n",
    "xx = np.load('tmp.npy')\n",
    "xx.shape"
   ]
  },
  {
   "cell_type": "code",
   "execution_count": null,
   "metadata": {},
   "outputs": [],
   "source": []
  },
  {
   "cell_type": "markdown",
   "metadata": {},
   "source": [
    "# Prediction"
   ]
  },
  {
   "cell_type": "code",
   "execution_count": 5,
   "metadata": {},
   "outputs": [],
   "source": [
    "x = np.load(f'data/wpt_{sampleWPT}/{sammpleID}_x.npy')\n",
    "y = np.load(f'data/wpt_{sampleWPT}/{sammpleID}_y.npy')"
   ]
  },
  {
   "cell_type": "code",
   "execution_count": 7,
   "metadata": {},
   "outputs": [
    {
     "data": {
      "text/plain": [
       "((834, 41), (834,))"
      ]
     },
     "execution_count": 7,
     "metadata": {},
     "output_type": "execute_result"
    }
   ],
   "source": [
    "x.shape, y.shape"
   ]
  },
  {
   "cell_type": "code",
   "execution_count": 12,
   "metadata": {},
   "outputs": [
    {
     "data": {
      "text/plain": [
       "20"
      ]
     },
     "execution_count": 12,
     "metadata": {},
     "output_type": "execute_result"
    }
   ],
   "source": [
    "argmxs = np.argmax(x,axis=1)\n",
    "mostPopularLayer = np.bincount(argmxs).argmax()\n",
    "mostPopularLayer"
   ]
  },
  {
   "cell_type": "code",
   "execution_count": 29,
   "metadata": {},
   "outputs": [],
   "source": [
    "for wpt in wpts:\n",
    "    tmp = np.load(f'utils/wpt_{sampleWPT}_armgxs.npy')\n",
    "    mostCommonValue = np.bincount(tmp).argmax()\n",
    "    np.save(f'utils/wpt_{wpt}_targetlayer.npy', mostCommonValue)\n"
   ]
  },
  {
   "cell_type": "code",
   "execution_count": 45,
   "metadata": {},
   "outputs": [],
   "source": [
    "x = np.load(f'data/wpt_{sampleWPT}/{sammpleID}_x.npy')\n",
    "y = np.load(f'data/wpt_{sampleWPT}/{sammpleID}_y.npy')\n",
    "targetlayer = np.load(f'utils/wpt_{sampleWPT}_targetlayer.npy')"
   ]
  },
  {
   "cell_type": "code",
   "execution_count": 62,
   "metadata": {},
   "outputs": [],
   "source": [
    "from utils.filter import layer_filter"
   ]
  },
  {
   "cell_type": "code",
   "execution_count": 53,
   "metadata": {},
   "outputs": [
    {
     "data": {
      "text/plain": [
       "(475,)"
      ]
     },
     "execution_count": 53,
     "metadata": {},
     "output_type": "execute_result"
    }
   ],
   "source": [
    "argmxs = np.argmax(x, axis=1)\n",
    "c1 = argmxs == targetlayer\n",
    "c2 = argmxs == targetlayer-1\n",
    "c3 = argmxs == targetlayer+1\n",
    "argmxs[c1 | c2 | c3].shape"
   ]
  },
  {
   "cell_type": "code",
   "execution_count": 70,
   "metadata": {},
   "outputs": [
    {
     "data": {
      "text/plain": [
       "array([False, False, False, False, False, False, False, False, False,\n",
       "       False, False,  True, False,  True,  True, False, False, False,\n",
       "       False, False, False, False, False,  True,  True, False, False,\n",
       "        True,  True, False,  True,  True,  True, False, False, False,\n",
       "        True, False, False, False, False,  True, False, False, False,\n",
       "       False, False, False, False, False,  True, False, False, False,\n",
       "       False, False, False, False, False, False, False,  True, False,\n",
       "       False,  True, False, False,  True, False, False,  True, False,\n",
       "       False,  True, False, False,  True,  True, False, False,  True,\n",
       "       False,  True, False,  True, False, False,  True, False, False,\n",
       "       False, False,  True, False, False, False, False, False, False,\n",
       "        True, False, False, False, False, False,  True, False, False,\n",
       "       False, False, False,  True,  True, False, False, False, False,\n",
       "       False, False, False, False, False, False,  True, False, False,\n",
       "       False,  True, False, False, False, False, False, False,  True,\n",
       "        True, False, False, False, False, False, False, False,  True,\n",
       "       False, False, False, False, False,  True, False, False, False,\n",
       "        True, False, False,  True,  True,  True, False,  True, False,\n",
       "       False, False,  True,  True, False,  True, False, False, False,\n",
       "        True, False, False, False,  True, False, False, False, False,\n",
       "       False, False,  True, False, False,  True, False, False, False,\n",
       "        True, False, False, False,  True, False, False, False, False,\n",
       "       False,  True, False,  True,  True, False, False,  True, False,\n",
       "       False,  True, False, False,  True, False, False, False, False,\n",
       "       False, False, False, False,  True,  True, False, False, False,\n",
       "        True,  True,  True,  True,  True,  True, False, False, False,\n",
       "        True,  True,  True,  True, False, False, False, False,  True,\n",
       "       False,  True,  True,  True,  True, False,  True, False, False,\n",
       "       False,  True, False,  True, False,  True, False, False,  True,\n",
       "       False, False, False, False, False, False, False, False, False,\n",
       "       False, False,  True, False, False,  True, False, False,  True,\n",
       "        True, False, False,  True, False,  True, False,  True, False,\n",
       "        True,  True, False,  True, False, False,  True, False, False,\n",
       "       False,  True, False,  True, False, False, False, False, False,\n",
       "        True,  True,  True, False,  True, False, False, False, False,\n",
       "        True, False,  True, False, False, False, False,  True, False,\n",
       "       False, False, False, False,  True, False, False, False,  True,\n",
       "       False, False, False,  True, False,  True,  True,  True,  True,\n",
       "       False, False,  True,  True, False, False, False, False, False,\n",
       "       False, False, False, False, False, False, False, False, False,\n",
       "       False, False, False, False,  True,  True, False, False, False,\n",
       "       False, False, False, False, False, False, False, False, False,\n",
       "       False, False,  True, False, False, False, False,  True, False,\n",
       "       False, False,  True, False, False, False, False,  True, False,\n",
       "        True,  True,  True, False, False,  True, False, False,  True,\n",
       "       False, False,  True, False, False, False, False, False,  True,\n",
       "       False,  True,  True, False, False, False,  True, False, False,\n",
       "       False, False, False, False, False, False,  True, False,  True,\n",
       "        True,  True, False, False, False, False, False, False, False,\n",
       "       False, False, False, False, False,  True,  True, False, False,\n",
       "       False, False, False, False, False,  True, False, False, False,\n",
       "        True, False, False, False, False, False,  True,  True,  True,\n",
       "       False, False, False, False, False,  True, False, False,  True,\n",
       "       False, False,  True, False,  True, False,  True,  True, False,\n",
       "        True, False,  True, False,  True,  True, False, False, False,\n",
       "       False, False,  True,  True, False, False, False,  True, False,\n",
       "       False, False,  True, False, False, False, False,  True,  True,\n",
       "       False,  True, False, False, False, False, False, False, False,\n",
       "       False, False, False, False, False, False, False, False, False,\n",
       "       False, False,  True, False, False,  True, False, False, False,\n",
       "       False, False, False,  True, False, False,  True, False,  True,\n",
       "       False, False, False, False, False, False, False, False,  True,\n",
       "       False, False, False, False, False, False, False, False, False,\n",
       "       False,  True, False,  True,  True, False, False, False, False,\n",
       "        True, False, False,  True, False, False, False,  True, False,\n",
       "        True, False, False,  True, False, False, False,  True, False,\n",
       "        True,  True, False, False, False,  True, False, False, False,\n",
       "       False, False, False,  True,  True, False, False,  True, False,\n",
       "        True, False, False,  True,  True, False, False,  True, False,\n",
       "       False,  True, False, False,  True,  True, False, False, False,\n",
       "       False,  True,  True, False, False,  True, False, False, False,\n",
       "        True,  True, False,  True, False,  True, False, False, False,\n",
       "       False,  True, False, False, False, False, False, False,  True,\n",
       "        True, False, False, False, False,  True, False, False,  True,\n",
       "       False, False,  True, False, False, False,  True,  True, False,\n",
       "       False, False, False, False, False,  True, False, False, False,\n",
       "        True,  True, False,  True,  True,  True, False, False, False,\n",
       "       False,  True, False, False,  True,  True, False, False, False,\n",
       "       False, False,  True, False, False, False,  True, False, False,\n",
       "       False,  True,  True, False, False, False,  True,  True,  True,\n",
       "       False, False, False, False,  True, False,  True, False,  True,\n",
       "        True, False,  True, False, False, False, False,  True, False,\n",
       "       False, False,  True, False, False, False, False,  True, False,\n",
       "        True,  True, False,  True, False, False, False,  True, False,\n",
       "        True,  True,  True,  True,  True, False, False, False, False,\n",
       "       False,  True,  True,  True, False, False, False,  True, False,\n",
       "       False, False, False, False,  True,  True,  True, False,  True,\n",
       "        True, False, False, False, False, False, False,  True, False,\n",
       "       False, False, False, False, False, False, False, False, False,\n",
       "       False, False, False, False,  True, False, False, False, False,\n",
       "       False,  True,  True,  True, False,  True,  True, False, False,\n",
       "       False, False,  True,  True, False, False, False, False,  True,\n",
       "        True, False, False,  True, False, False, False,  True,  True,\n",
       "       False, False, False, False, False,  True, False, False,  True,\n",
       "       False, False, False, False,  True,  True,  True, False, False,\n",
       "        True, False,  True, False, False, False,  True,  True, False,\n",
       "       False, False, False, False, False, False, False, False, False,\n",
       "       False, False,  True, False, False, False, False, False,  True,\n",
       "       False, False, False, False, False,  True, False, False,  True,\n",
       "        True,  True,  True,  True,  True, False, False, False, False,\n",
       "        True, False, False,  True, False, False,  True, False,  True,\n",
       "       False])"
      ]
     },
     "execution_count": 70,
     "metadata": {},
     "output_type": "execute_result"
    }
   ],
   "source": [
    "c1"
   ]
  },
  {
   "cell_type": "code",
   "execution_count": 71,
   "metadata": {},
   "outputs": [],
   "source": [
    "def getPeakData(x,targetlayer):\n",
    "    x1 = x[:,targetlayer]\n",
    "    x2 = x[:,targetlayer-1]\n",
    "    x3 = x[:,targetlayer+1]\n",
    "    x = np.column_stack((x1,x2,x3))\n",
    "    return x"
   ]
  },
  {
   "cell_type": "code",
   "execution_count": 73,
   "metadata": {},
   "outputs": [
    {
     "data": {
      "text/plain": [
       "(475, 41)"
      ]
     },
     "execution_count": 73,
     "metadata": {},
     "output_type": "execute_result"
    }
   ],
   "source": [
    "tmpx,tmpy = layer_filter(x, y, targetlayer)\n",
    "\n",
    "tmpx.shape"
   ]
  },
  {
   "cell_type": "code",
   "execution_count": 74,
   "metadata": {},
   "outputs": [],
   "source": [
    "tmpx = tmpx[:200]"
   ]
  },
  {
   "cell_type": "code",
   "execution_count": 77,
   "metadata": {},
   "outputs": [
    {
     "data": {
      "text/plain": [
       "(200, 41)"
      ]
     },
     "execution_count": 77,
     "metadata": {},
     "output_type": "execute_result"
    }
   ],
   "source": [
    "tmpx.shape"
   ]
  }
 ],
 "metadata": {
  "kernelspec": {
   "display_name": "pct",
   "language": "python",
   "name": "python3"
  },
  "language_info": {
   "codemirror_mode": {
    "name": "ipython",
    "version": 3
   },
   "file_extension": ".py",
   "mimetype": "text/x-python",
   "name": "python",
   "nbconvert_exporter": "python",
   "pygments_lexer": "ipython3",
   "version": "3.9.13"
  }
 },
 "nbformat": 4,
 "nbformat_minor": 2
}
